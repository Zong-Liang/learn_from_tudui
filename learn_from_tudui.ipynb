{
 "cells": [
  {
   "cell_type": "code",
   "execution_count": null,
   "id": "initial_id",
   "metadata": {
    "collapsed": true
   },
   "outputs": [],
   "source": [
    "import torch\n",
    "import torchvision\n",
    "from torchvision import transforms"
   ]
  },
  {
   "cell_type": "code",
   "execution_count": null,
   "id": "25eec26df5473f23",
   "metadata": {},
   "outputs": [],
   "source": [
    "device = torch.device(\"cuda:0\")"
   ]
  },
  {
   "cell_type": "code",
   "execution_count": null,
   "id": "f23f89184d31825c",
   "metadata": {},
   "outputs": [],
   "source": [
    "transforms = transforms.Compose(\n",
    "    [torchvision.transforms.ToTensor(), ]\n",
    ")"
   ]
  },
  {
   "cell_type": "code",
   "execution_count": null,
   "id": "6772689ce2678105",
   "metadata": {},
   "outputs": [],
   "source": [
    "train_data = torchvision.datasets.CIFAR10(\n",
    "    root=\"./data\",\n",
    "    train=True,\n",
    "    transform=transforms,\n",
    "    download=True,\n",
    ")\n",
    "test_data = torchvision.datasets.CIFAR10(\n",
    "    root=\"./data\",\n",
    "    train=False,\n",
    "    transform=transforms,\n",
    "    download=True,\n",
    ")"
   ]
  },
  {
   "cell_type": "code",
   "execution_count": null,
   "id": "4d22b25ae11c0d2b",
   "metadata": {},
   "outputs": [],
   "source": [
    "len(train_data), len(test_data)"
   ]
  },
  {
   "cell_type": "code",
   "execution_count": null,
   "id": "141e268109f8edb3",
   "metadata": {},
   "outputs": [],
   "source": [
    "from torch.utils.data import DataLoader"
   ]
  },
  {
   "cell_type": "code",
   "execution_count": null,
   "id": "8ef6c153201865af",
   "metadata": {},
   "outputs": [],
   "source": [
    "train_dataloader = DataLoader(train_data, batch_size=8, shuffle=True)\n",
    "test_dataloader = DataLoader(test_data, batch_size=8)"
   ]
  },
  {
   "cell_type": "code",
   "execution_count": null,
   "id": "46f87358c4f91ecf",
   "metadata": {},
   "outputs": [],
   "source": [
    "from torch import nn"
   ]
  },
  {
   "cell_type": "code",
   "execution_count": null,
   "id": "97968c3cd61459d8",
   "metadata": {},
   "outputs": [],
   "source": [
    "class CIFAR10(nn.Module):\n",
    "    def __init__(self):\n",
    "        super(CIFAR10, self).__init__()\n",
    "        self.model = nn.Sequential(nn.Conv2d(3, 32, 5, 1, 2),\n",
    "                                   nn.MaxPool2d(2),\n",
    "                                   nn.Conv2d(32, 32, 5, 1, 2),\n",
    "                                   nn.MaxPool2d(2),\n",
    "                                   nn.Conv2d(32, 64, 5, 1, 2),\n",
    "                                   nn.MaxPool2d(2),\n",
    "                                   nn.Flatten(),\n",
    "                                   nn.Linear(64 * 4 * 4, 64),\n",
    "                                   nn.Linear(64, 10)\n",
    "                                   )\n",
    "\n",
    "    def forward(self, x):\n",
    "        x = self.model(x)\n",
    "        return x"
   ]
  },
  {
   "cell_type": "code",
   "execution_count": null,
   "id": "87fe91398a2a702f",
   "metadata": {},
   "outputs": [],
   "source": [
    "net = CIFAR10()\n",
    "net.to(device)"
   ]
  },
  {
   "cell_type": "code",
   "execution_count": null,
   "id": "f9adfc185716426c",
   "metadata": {},
   "outputs": [],
   "source": [
    "criterion = nn.CrossEntropyLoss()\n",
    "criterion = criterion.to(device)"
   ]
  },
  {
   "cell_type": "code",
   "execution_count": null,
   "id": "ad1f100998e07abe",
   "metadata": {},
   "outputs": [],
   "source": [
    "from torch import optim"
   ]
  },
  {
   "cell_type": "code",
   "execution_count": null,
   "id": "f7c88f31b855523e",
   "metadata": {},
   "outputs": [],
   "source": [
    "optimizer = optim.SGD(net.parameters(), lr=1e-3, momentum=0.9)"
   ]
  },
  {
   "cell_type": "code",
   "execution_count": null,
   "id": "76cbe2be58c3059c",
   "metadata": {},
   "outputs": [],
   "source": [
    "epochs = 8"
   ]
  },
  {
   "cell_type": "code",
   "execution_count": null,
   "id": "a95c49145ac1aeb0",
   "metadata": {},
   "outputs": [],
   "source": [
    "from torch.utils.tensorboard import SummaryWriter\n",
    "\n",
    "writer = SummaryWriter(\"./runs\")"
   ]
  },
  {
   "cell_type": "code",
   "execution_count": null,
   "id": "ab18bda638479f9b",
   "metadata": {},
   "outputs": [],
   "source": [
    "for epoch in range(epochs):\n",
    "    print(f\"epoch: [{epoch + 1}/{epochs}]\")\n",
    "\n",
    "    total_train_loss = 0\n",
    "    total_test_loss = 0\n",
    "    total_train_step = 0\n",
    "    total_test_step = 0\n",
    "    total_train_accuracy = 0\n",
    "    total_test_accuracy = 0\n",
    "\n",
    "    net.train()\n",
    "    for data in train_dataloader:\n",
    "        imgs, targets = data\n",
    "        imgs, targets = imgs.to(device), targets.to(device)\n",
    "        pred_targets = net(imgs)\n",
    "        accuracy = (pred_targets.argmax(1) == targets).sum()\n",
    "        total_train_accuracy += accuracy\n",
    "\n",
    "        loss = criterion(pred_targets, targets)\n",
    "        total_train_loss += loss.item()\n",
    "        optimizer.zero_grad()\n",
    "        loss.backward()\n",
    "        optimizer.step()\n",
    "\n",
    "        total_train_step += 1\n",
    "\n",
    "    avg_train_loss = total_train_loss / len(train_data)\n",
    "    avg_train_accuracy = total_train_accuracy / len(train_data)\n",
    "    print(\n",
    "        \"train_loss: [%.4f] | train_accuracy: [%.4f]\"\n",
    "        % (avg_train_loss, avg_train_accuracy)\n",
    "    )\n",
    "    writer.add_scalar(\"train_loss\", avg_train_loss, epoch)\n",
    "\n",
    "    net.eval()\n",
    "    with torch.no_grad():\n",
    "        for data in test_dataloader:\n",
    "            imgs, targets = data\n",
    "            imgs, targets = imgs.to(device), targets.to(device)\n",
    "            pred_targets = net(imgs)\n",
    "            accuracy = (pred_targets.argmax(1) == targets).sum()\n",
    "            total_test_accuracy += accuracy\n",
    "\n",
    "            loss = criterion(pred_targets, targets)\n",
    "            total_test_loss += loss.item()\n",
    "\n",
    "            total_test_step += 1\n",
    "\n",
    "        avg_test_loss = total_test_loss / len(test_data)\n",
    "        avg_test_accuracy = total_test_accuracy / len(test_data)\n",
    "        print(\n",
    "            \"test_loss: [%.4f] | test_accuracy: [%.4f]\"\n",
    "            % (avg_test_loss, avg_test_accuracy)\n",
    "        )\n",
    "        writer.add_scalar(\"test_loss\", avg_test_loss, epoch)\n",
    "writer.close()"
   ]
  },
  {
   "cell_type": "code",
   "execution_count": null,
   "id": "1b371a1ecd71270",
   "metadata": {},
   "outputs": [],
   "source": [
    "import os"
   ]
  },
  {
   "cell_type": "code",
   "execution_count": null,
   "id": "fa8d9aa126de3b10",
   "metadata": {},
   "outputs": [],
   "source": [
    "net_save_path = \"./checkpoints\"\n",
    "if not os.path.exists(net_save_path):\n",
    "    os.makedirs(net_save_path)\n",
    "\n",
    "torch.save(net.state_dict(), \"./checkpoints/net_last.pth\")"
   ]
  }
 ],
 "metadata": {
  "kernelspec": {
   "display_name": "Python 3 (ipykernel)",
   "language": "python",
   "name": "python3"
  },
  "language_info": {
   "codemirror_mode": {
    "name": "ipython",
    "version": 3
   },
   "file_extension": ".py",
   "mimetype": "text/x-python",
   "name": "python",
   "nbconvert_exporter": "python",
   "pygments_lexer": "ipython3",
   "version": "3.8.17"
  }
 },
 "nbformat": 4,
 "nbformat_minor": 5
}
